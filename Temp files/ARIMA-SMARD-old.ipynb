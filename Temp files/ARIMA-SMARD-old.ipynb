{
 "cells": [
  {
   "cell_type": "code",
   "execution_count": 1,
   "metadata": {},
   "outputs": [
    {
     "data": {
      "text/html": [
       "<div>\n",
       "<style scoped>\n",
       "    .dataframe tbody tr th:only-of-type {\n",
       "        vertical-align: middle;\n",
       "    }\n",
       "\n",
       "    .dataframe tbody tr th {\n",
       "        vertical-align: top;\n",
       "    }\n",
       "\n",
       "    .dataframe thead th {\n",
       "        text-align: right;\n",
       "    }\n",
       "</style>\n",
       "<table border=\"1\" class=\"dataframe\">\n",
       "  <thead>\n",
       "    <tr style=\"text-align: right;\">\n",
       "      <th></th>\n",
       "      <th>Time</th>\n",
       "      <th>Demand[MWh]</th>\n",
       "    </tr>\n",
       "    <tr>\n",
       "      <th>Date</th>\n",
       "      <th></th>\n",
       "      <th></th>\n",
       "    </tr>\n",
       "  </thead>\n",
       "  <tbody>\n",
       "    <tr>\n",
       "      <th>17.11.2018</th>\n",
       "      <td>00:00</td>\n",
       "      <td>118</td>\n",
       "    </tr>\n",
       "    <tr>\n",
       "      <th>18.11.2018</th>\n",
       "      <td>00:00</td>\n",
       "      <td>995</td>\n",
       "    </tr>\n",
       "    <tr>\n",
       "      <th>19.11.2018</th>\n",
       "      <td>00:00</td>\n",
       "      <td>985</td>\n",
       "    </tr>\n",
       "    <tr>\n",
       "      <th>20.11.2018</th>\n",
       "      <td>00:00</td>\n",
       "      <td>11425</td>\n",
       "    </tr>\n",
       "    <tr>\n",
       "      <th>21.11.2018</th>\n",
       "      <td>00:00</td>\n",
       "      <td>1265</td>\n",
       "    </tr>\n",
       "  </tbody>\n",
       "</table>\n",
       "</div>"
      ],
      "text/plain": [
       "             Time  Demand[MWh]\n",
       "Date                          \n",
       "17.11.2018  00:00          118\n",
       "18.11.2018  00:00          995\n",
       "19.11.2018  00:00          985\n",
       "20.11.2018  00:00        11425\n",
       "21.11.2018  00:00         1265"
      ]
     },
     "execution_count": 1,
     "metadata": {},
     "output_type": "execute_result"
    }
   ],
   "source": [
    "import pandas as pd\n",
    "data = pd.read_csv(\"SMARD_Realisierter_Stromverbrauch_201811170000_202011122345_1.csv\")\n",
    "\n",
    "# data['Date'] = data['Date'].astype('str')\n",
    "# data['Time'] = data['Time'].astype('str')\n",
    "# data['Date'] = data['Date'] + ' '+ data['Time']\n",
    "\n",
    "data = data.drop_duplicates(subset='Date', keep='first')\n",
    "data.set_index('Date', inplace=True)\n",
    "\n",
    "# data = data.assign(Date=data.Date.dt.round('H'))\n",
    "# data = data.assign(Date=data.Date.dt.round('H'))\n",
    "# data = data['01.01.2019':'01.07.2019']\n",
    "data.head()"
   ]
  },
  {
   "cell_type": "code",
   "execution_count": 2,
   "metadata": {},
   "outputs": [
    {
     "name": "stdout",
     "output_type": "stream",
     "text": [
      "365\n"
     ]
    },
    {
     "data": {
      "text/plain": [
       "Date\n",
       "2019-12-07    125\n",
       "2019-12-08     91\n",
       "2019-12-09    106\n",
       "2019-12-10    107\n",
       "2019-12-11    121\n",
       "Name: Demand[MWh], dtype: int64"
      ]
     },
     "execution_count": 2,
     "metadata": {},
     "output_type": "execute_result"
    }
   ],
   "source": [
    "data.index = pd.to_datetime(data.index)\n",
    "data = data['Demand[MWh]']\n",
    "data.columns = ['Energy Production']\n",
    "# data = data[data.index.day == 1]\n",
    "data = data.sort_index()\n",
    "\n",
    "print(len(data))\n",
    "# data.columns\n",
    "# data = data['2019-01-01 00:00':'2019-06-01 00:00,']\n",
    "# data = data['2019-01-01':]\n",
    "data.tail()"
   ]
  },
  {
   "cell_type": "code",
   "execution_count": null,
   "metadata": {},
   "outputs": [],
   "source": []
  },
  {
   "cell_type": "code",
   "execution_count": 3,
   "metadata": {},
   "outputs": [],
   "source": [
    "data.columns = ['Energy Production']\n",
    "\n",
    "train = data[:int((70*len(data)/100))]\n",
    "valid = data[int((70*len(data)/100)):]"
   ]
  },
  {
   "cell_type": "code",
   "execution_count": null,
   "metadata": {},
   "outputs": [],
   "source": []
  },
  {
   "cell_type": "code",
   "execution_count": null,
   "metadata": {},
   "outputs": [],
   "source": [
    "import cufflinks as cf\n",
    "import plotly.offline\n",
    "from  plotly.offline import plot_mpl\n",
    "cf.go_offline()\n",
    "cf.set_config_file(offline=False, world_readable=True)\n",
    "\n",
    "data.iplot(title=\"power\")"
   ]
  },
  {
   "cell_type": "code",
   "execution_count": null,
   "metadata": {},
   "outputs": [],
   "source": [
    "from matplotlib import pyplot\n",
    "from statsmodels.tsa.seasonal import seasonal_decompose\n",
    "from statsmodels.graphics.tsaplots import plot_acf, plot_pacf\n",
    "plot_acf(data, lags=50)\n",
    "pyplot.show()"
   ]
  },
  {
   "cell_type": "code",
   "execution_count": null,
   "metadata": {},
   "outputs": [],
   "source": [
    "\n",
    "plot_pacf(data, lags=50)\n",
    "pyplot.show()"
   ]
  },
  {
   "cell_type": "code",
   "execution_count": null,
   "metadata": {},
   "outputs": [],
   "source": [
    "# decomposed = seasonal_decompose(data, model='additive')\n",
    "# x = decomposed.plot() #See note below about this"
   ]
  },
  {
   "cell_type": "code",
   "execution_count": null,
   "metadata": {},
   "outputs": [],
   "source": [
    "from pyramid.arima import auto_arima\n",
    "model = auto_arima(train, trace=True, error_action='ignore', suppress_warnings=True)\n",
    "model.fit(train)\n",
    "\n",
    "# forecast = model.predict(n_periods=len(valid))\n",
    "# forecast = pd.DataFrame(forecast,index = valid.index,columns=['Prediction'])\n",
    "\n",
    "#plot the predictions for validation set"
   ]
  },
  {
   "cell_type": "code",
   "execution_count": null,
   "metadata": {},
   "outputs": [],
   "source": [
    "future_forecast = model.predict(n_periods=len(valid))\n",
    "future_forecast\n"
   ]
  },
  {
   "cell_type": "code",
   "execution_count": null,
   "metadata": {},
   "outputs": [],
   "source": [
    "future_forecast = pd.DataFrame(future_forecast,index = valid.index,columns=['Prediction'])\n"
   ]
  },
  {
   "cell_type": "code",
   "execution_count": null,
   "metadata": {},
   "outputs": [],
   "source": [
    "future_forecast = pd.DataFrame(future_forecast,index = valid.index,columns=['Prediction'])\n",
    "pd.concat([valid,future_forecast],axis=1).iplot()"
   ]
  },
  {
   "cell_type": "code",
   "execution_count": null,
   "metadata": {},
   "outputs": [],
   "source": [
    "pd.concat([data,future_forecast],axis=1).iplot()\n"
   ]
  },
  {
   "cell_type": "code",
   "execution_count": null,
   "metadata": {},
   "outputs": [],
   "source": [
    "#calculate rmse\n",
    "from math import sqrt\n",
    "from sklearn.metrics import mean_squared_error\n",
    "\n",
    "rms = sqrt(mean_squared_error(valid,future_forecast))\n",
    "print(rms)"
   ]
  },
  {
   "cell_type": "code",
   "execution_count": null,
   "metadata": {},
   "outputs": [],
   "source": []
  }
 ],
 "metadata": {
  "kernelspec": {
   "display_name": "Python 3",
   "language": "python",
   "name": "python3"
  },
  "language_info": {
   "codemirror_mode": {
    "name": "ipython",
    "version": 3
   },
   "file_extension": ".py",
   "mimetype": "text/x-python",
   "name": "python",
   "nbconvert_exporter": "python",
   "pygments_lexer": "ipython3",
   "version": "3.6.5"
  }
 },
 "nbformat": 4,
 "nbformat_minor": 2
}
