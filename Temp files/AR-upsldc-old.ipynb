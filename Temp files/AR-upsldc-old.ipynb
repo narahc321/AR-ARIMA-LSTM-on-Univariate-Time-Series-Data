{
 "cells": [
  {
   "cell_type": "code",
   "execution_count": 1,
   "metadata": {},
   "outputs": [
    {
     "name": "stderr",
     "output_type": "stream",
     "text": [
      "/home/cooldudeanmol/anaconda3/lib/python3.6/site-packages/h5py/__init__.py:36: FutureWarning: Conversion of the second argument of issubdtype from `float` to `np.floating` is deprecated. In future, it will be treated as `np.float64 == np.dtype(float).type`.\n",
      "  from ._conv import register_converters as _register_converters\n",
      "Using TensorFlow backend.\n"
     ]
    }
   ],
   "source": [
    "import pandas as pd\n",
    "import matplotlib.pylab as plt\n",
    "from matplotlib import pyplot as plt\n",
    "from sklearn.preprocessing import MinMaxScaler\n",
    "from keras.models import Sequential\n",
    "from keras.layers import GRU, Dense, Dropout\n",
    "from keras.layers import LSTM\n",
    "from keras  import callbacks\n",
    "from keras import optimizers\n",
    "import pandas as pd \n",
    "import tensorflow as tf\n",
    "import numpy as np\n",
    "%matplotlib inline\n",
    " \n",
    " \n",
    "plt.rcParams['figure.figsize']=(20,10)\n",
    "plt.style.use('ggplot')\n",
    " \n",
    "    \n",
    "\n",
    "# sales_data = pd.read_csv('retail_sales.csv')\n",
    "# sales_data['date']=pd.to_datetime(sales_data['date'])\n",
    "# sales_data.set_index('date', inplace=True)\n",
    " \n",
    "# sales_data.plot()"
   ]
  },
  {
   "cell_type": "code",
   "execution_count": 2,
   "metadata": {},
   "outputs": [
    {
     "data": {
      "text/html": [
       "<div>\n",
       "<style scoped>\n",
       "    .dataframe tbody tr th:only-of-type {\n",
       "        vertical-align: middle;\n",
       "    }\n",
       "\n",
       "    .dataframe tbody tr th {\n",
       "        vertical-align: top;\n",
       "    }\n",
       "\n",
       "    .dataframe thead th {\n",
       "        text-align: right;\n",
       "    }\n",
       "</style>\n",
       "<table border=\"1\" class=\"dataframe\">\n",
       "  <thead>\n",
       "    <tr style=\"text-align: right;\">\n",
       "      <th></th>\n",
       "      <th>Schedule(MW)</th>\n",
       "      <th>Drawl(MW)</th>\n",
       "      <th>OD/UD(MW)</th>\n",
       "      <th>Demand(MW)</th>\n",
       "      <th>Total SSGS(MW)</th>\n",
       "      <th>UP Thermal Generation (MW)</th>\n",
       "      <th>IPP Thermal Generation (MW)</th>\n",
       "      <th>UP Hydro Generation (MW)</th>\n",
       "      <th>Co-gen/CPP Generation (MW)</th>\n",
       "      <th>RE/Solar Generation (MW)</th>\n",
       "      <th>Frequency (Hz)</th>\n",
       "      <th>Deviation Rate (Paise/Unit)</th>\n",
       "    </tr>\n",
       "    <tr>\n",
       "      <th>Time Stamp</th>\n",
       "      <th></th>\n",
       "      <th></th>\n",
       "      <th></th>\n",
       "      <th></th>\n",
       "      <th></th>\n",
       "      <th></th>\n",
       "      <th></th>\n",
       "      <th></th>\n",
       "      <th></th>\n",
       "      <th></th>\n",
       "      <th></th>\n",
       "      <th></th>\n",
       "    </tr>\n",
       "  </thead>\n",
       "  <tbody>\n",
       "    <tr>\n",
       "      <th>2018-11-18 12:25:15.636365</th>\n",
       "      <td>4230</td>\n",
       "      <td>3989</td>\n",
       "      <td>-241</td>\n",
       "      <td>11217</td>\n",
       "      <td>7236</td>\n",
       "      <td>3589</td>\n",
       "      <td>3371</td>\n",
       "      <td>275</td>\n",
       "      <td>400</td>\n",
       "      <td>180</td>\n",
       "      <td>49.88</td>\n",
       "      <td>448.92</td>\n",
       "    </tr>\n",
       "    <tr>\n",
       "      <th>2018-11-18 12:25:47.489097</th>\n",
       "      <td>4230</td>\n",
       "      <td>4010</td>\n",
       "      <td>-220</td>\n",
       "      <td>11270</td>\n",
       "      <td>7260</td>\n",
       "      <td>3596</td>\n",
       "      <td>3392</td>\n",
       "      <td>272</td>\n",
       "      <td>400</td>\n",
       "      <td>180</td>\n",
       "      <td>49.94</td>\n",
       "      <td>303.04</td>\n",
       "    </tr>\n",
       "    <tr>\n",
       "      <th>2018-11-18 12:26:14.219461</th>\n",
       "      <td>4230</td>\n",
       "      <td>4010</td>\n",
       "      <td>-220</td>\n",
       "      <td>11270</td>\n",
       "      <td>7260</td>\n",
       "      <td>3596</td>\n",
       "      <td>3392</td>\n",
       "      <td>272</td>\n",
       "      <td>400</td>\n",
       "      <td>180</td>\n",
       "      <td>49.94</td>\n",
       "      <td>303.04</td>\n",
       "    </tr>\n",
       "    <tr>\n",
       "      <th>2018-11-18 12:27:37.255027</th>\n",
       "      <td>4230</td>\n",
       "      <td>4010</td>\n",
       "      <td>-220</td>\n",
       "      <td>11270</td>\n",
       "      <td>7260</td>\n",
       "      <td>3596</td>\n",
       "      <td>3392</td>\n",
       "      <td>272</td>\n",
       "      <td>400</td>\n",
       "      <td>180</td>\n",
       "      <td>49.94</td>\n",
       "      <td>303.04</td>\n",
       "    </tr>\n",
       "    <tr>\n",
       "      <th>2018-11-18 12:29:20.373452</th>\n",
       "      <td>4230</td>\n",
       "      <td>4010</td>\n",
       "      <td>-220</td>\n",
       "      <td>11270</td>\n",
       "      <td>7260</td>\n",
       "      <td>3596</td>\n",
       "      <td>3392</td>\n",
       "      <td>272</td>\n",
       "      <td>400</td>\n",
       "      <td>180</td>\n",
       "      <td>49.94</td>\n",
       "      <td>303.04</td>\n",
       "    </tr>\n",
       "  </tbody>\n",
       "</table>\n",
       "</div>"
      ],
      "text/plain": [
       "                            Schedule(MW)  Drawl(MW)  OD/UD(MW)  Demand(MW)  \\\n",
       "Time Stamp                                                                   \n",
       "2018-11-18 12:25:15.636365          4230       3989       -241       11217   \n",
       "2018-11-18 12:25:47.489097          4230       4010       -220       11270   \n",
       "2018-11-18 12:26:14.219461          4230       4010       -220       11270   \n",
       "2018-11-18 12:27:37.255027          4230       4010       -220       11270   \n",
       "2018-11-18 12:29:20.373452          4230       4010       -220       11270   \n",
       "\n",
       "                             Total SSGS(MW)  UP Thermal Generation (MW)  \\\n",
       "Time Stamp                                                                \n",
       "2018-11-18 12:25:15.636365             7236                        3589   \n",
       "2018-11-18 12:25:47.489097             7260                        3596   \n",
       "2018-11-18 12:26:14.219461             7260                        3596   \n",
       "2018-11-18 12:27:37.255027             7260                        3596   \n",
       "2018-11-18 12:29:20.373452             7260                        3596   \n",
       "\n",
       "                            IPP Thermal Generation (MW)  \\\n",
       "Time Stamp                                                \n",
       "2018-11-18 12:25:15.636365                         3371   \n",
       "2018-11-18 12:25:47.489097                         3392   \n",
       "2018-11-18 12:26:14.219461                         3392   \n",
       "2018-11-18 12:27:37.255027                         3392   \n",
       "2018-11-18 12:29:20.373452                         3392   \n",
       "\n",
       "                             UP Hydro Generation (MW)  \\\n",
       "Time Stamp                                              \n",
       "2018-11-18 12:25:15.636365                        275   \n",
       "2018-11-18 12:25:47.489097                        272   \n",
       "2018-11-18 12:26:14.219461                        272   \n",
       "2018-11-18 12:27:37.255027                        272   \n",
       "2018-11-18 12:29:20.373452                        272   \n",
       "\n",
       "                            Co-gen/CPP Generation (MW)  \\\n",
       "Time Stamp                                               \n",
       "2018-11-18 12:25:15.636365                         400   \n",
       "2018-11-18 12:25:47.489097                         400   \n",
       "2018-11-18 12:26:14.219461                         400   \n",
       "2018-11-18 12:27:37.255027                         400   \n",
       "2018-11-18 12:29:20.373452                         400   \n",
       "\n",
       "                            RE/Solar Generation (MW)   Frequency (Hz)  \\\n",
       "Time Stamp                                                              \n",
       "2018-11-18 12:25:15.636365                       180            49.88   \n",
       "2018-11-18 12:25:47.489097                       180            49.94   \n",
       "2018-11-18 12:26:14.219461                       180            49.94   \n",
       "2018-11-18 12:27:37.255027                       180            49.94   \n",
       "2018-11-18 12:29:20.373452                       180            49.94   \n",
       "\n",
       "                            Deviation Rate (Paise/Unit)  \n",
       "Time Stamp                                               \n",
       "2018-11-18 12:25:15.636365                       448.92  \n",
       "2018-11-18 12:25:47.489097                       303.04  \n",
       "2018-11-18 12:26:14.219461                       303.04  \n",
       "2018-11-18 12:27:37.255027                       303.04  \n",
       "2018-11-18 12:29:20.373452                       303.04  "
      ]
     },
     "execution_count": 2,
     "metadata": {},
     "output_type": "execute_result"
    }
   ],
   "source": [
    "data = pd.read_csv(\"upsldc.csv\",index_col=0)\n",
    "# data = data.loc['1985-01-01':]\n",
    "\n",
    "data.head()\n"
   ]
  },
  {
   "cell_type": "code",
   "execution_count": 3,
   "metadata": {},
   "outputs": [
    {
     "data": {
      "text/html": [
       "<div>\n",
       "<style scoped>\n",
       "    .dataframe tbody tr th:only-of-type {\n",
       "        vertical-align: middle;\n",
       "    }\n",
       "\n",
       "    .dataframe tbody tr th {\n",
       "        vertical-align: top;\n",
       "    }\n",
       "\n",
       "    .dataframe thead th {\n",
       "        text-align: right;\n",
       "    }\n",
       "</style>\n",
       "<table border=\"1\" class=\"dataframe\">\n",
       "  <thead>\n",
       "    <tr style=\"text-align: right;\">\n",
       "      <th></th>\n",
       "      <th>Schedule(MW)</th>\n",
       "      <th>Drawl(MW)</th>\n",
       "      <th>OD/UD(MW)</th>\n",
       "      <th>Demand(MW)</th>\n",
       "      <th>Total SSGS(MW)</th>\n",
       "      <th>UP Thermal Generation (MW)</th>\n",
       "      <th>IPP Thermal Generation (MW)</th>\n",
       "      <th>UP Hydro Generation (MW)</th>\n",
       "      <th>Co-gen/CPP Generation (MW)</th>\n",
       "      <th>RE/Solar Generation (MW)</th>\n",
       "      <th>Frequency (Hz)</th>\n",
       "      <th>Deviation Rate (Paise/Unit)</th>\n",
       "    </tr>\n",
       "    <tr>\n",
       "      <th>Time Stamp</th>\n",
       "      <th></th>\n",
       "      <th></th>\n",
       "      <th></th>\n",
       "      <th></th>\n",
       "      <th></th>\n",
       "      <th></th>\n",
       "      <th></th>\n",
       "      <th></th>\n",
       "      <th></th>\n",
       "      <th></th>\n",
       "      <th></th>\n",
       "      <th></th>\n",
       "    </tr>\n",
       "  </thead>\n",
       "  <tbody>\n",
       "    <tr>\n",
       "      <th>2018-11-18 12:25:15.636365</th>\n",
       "      <td>4230</td>\n",
       "      <td>3989</td>\n",
       "      <td>-241</td>\n",
       "      <td>11217</td>\n",
       "      <td>7236</td>\n",
       "      <td>3589</td>\n",
       "      <td>3371</td>\n",
       "      <td>275</td>\n",
       "      <td>400</td>\n",
       "      <td>180</td>\n",
       "      <td>49.88</td>\n",
       "      <td>448.92</td>\n",
       "    </tr>\n",
       "    <tr>\n",
       "      <th>2018-11-18 12:25:47.489097</th>\n",
       "      <td>4230</td>\n",
       "      <td>4010</td>\n",
       "      <td>-220</td>\n",
       "      <td>11270</td>\n",
       "      <td>7260</td>\n",
       "      <td>3596</td>\n",
       "      <td>3392</td>\n",
       "      <td>272</td>\n",
       "      <td>400</td>\n",
       "      <td>180</td>\n",
       "      <td>49.94</td>\n",
       "      <td>303.04</td>\n",
       "    </tr>\n",
       "    <tr>\n",
       "      <th>2018-11-18 12:26:14.219461</th>\n",
       "      <td>4230</td>\n",
       "      <td>4010</td>\n",
       "      <td>-220</td>\n",
       "      <td>11270</td>\n",
       "      <td>7260</td>\n",
       "      <td>3596</td>\n",
       "      <td>3392</td>\n",
       "      <td>272</td>\n",
       "      <td>400</td>\n",
       "      <td>180</td>\n",
       "      <td>49.94</td>\n",
       "      <td>303.04</td>\n",
       "    </tr>\n",
       "    <tr>\n",
       "      <th>2018-11-18 12:27:37.255027</th>\n",
       "      <td>4230</td>\n",
       "      <td>4010</td>\n",
       "      <td>-220</td>\n",
       "      <td>11270</td>\n",
       "      <td>7260</td>\n",
       "      <td>3596</td>\n",
       "      <td>3392</td>\n",
       "      <td>272</td>\n",
       "      <td>400</td>\n",
       "      <td>180</td>\n",
       "      <td>49.94</td>\n",
       "      <td>303.04</td>\n",
       "    </tr>\n",
       "    <tr>\n",
       "      <th>2018-11-18 12:29:20.373452</th>\n",
       "      <td>4230</td>\n",
       "      <td>4010</td>\n",
       "      <td>-220</td>\n",
       "      <td>11270</td>\n",
       "      <td>7260</td>\n",
       "      <td>3596</td>\n",
       "      <td>3392</td>\n",
       "      <td>272</td>\n",
       "      <td>400</td>\n",
       "      <td>180</td>\n",
       "      <td>49.94</td>\n",
       "      <td>303.04</td>\n",
       "    </tr>\n",
       "  </tbody>\n",
       "</table>\n",
       "</div>"
      ],
      "text/plain": [
       "                            Schedule(MW)  Drawl(MW)  OD/UD(MW)  Demand(MW)  \\\n",
       "Time Stamp                                                                   \n",
       "2018-11-18 12:25:15.636365          4230       3989       -241       11217   \n",
       "2018-11-18 12:25:47.489097          4230       4010       -220       11270   \n",
       "2018-11-18 12:26:14.219461          4230       4010       -220       11270   \n",
       "2018-11-18 12:27:37.255027          4230       4010       -220       11270   \n",
       "2018-11-18 12:29:20.373452          4230       4010       -220       11270   \n",
       "\n",
       "                             Total SSGS(MW)  UP Thermal Generation (MW)  \\\n",
       "Time Stamp                                                                \n",
       "2018-11-18 12:25:15.636365             7236                        3589   \n",
       "2018-11-18 12:25:47.489097             7260                        3596   \n",
       "2018-11-18 12:26:14.219461             7260                        3596   \n",
       "2018-11-18 12:27:37.255027             7260                        3596   \n",
       "2018-11-18 12:29:20.373452             7260                        3596   \n",
       "\n",
       "                            IPP Thermal Generation (MW)  \\\n",
       "Time Stamp                                                \n",
       "2018-11-18 12:25:15.636365                         3371   \n",
       "2018-11-18 12:25:47.489097                         3392   \n",
       "2018-11-18 12:26:14.219461                         3392   \n",
       "2018-11-18 12:27:37.255027                         3392   \n",
       "2018-11-18 12:29:20.373452                         3392   \n",
       "\n",
       "                             UP Hydro Generation (MW)  \\\n",
       "Time Stamp                                              \n",
       "2018-11-18 12:25:15.636365                        275   \n",
       "2018-11-18 12:25:47.489097                        272   \n",
       "2018-11-18 12:26:14.219461                        272   \n",
       "2018-11-18 12:27:37.255027                        272   \n",
       "2018-11-18 12:29:20.373452                        272   \n",
       "\n",
       "                            Co-gen/CPP Generation (MW)  \\\n",
       "Time Stamp                                               \n",
       "2018-11-18 12:25:15.636365                         400   \n",
       "2018-11-18 12:25:47.489097                         400   \n",
       "2018-11-18 12:26:14.219461                         400   \n",
       "2018-11-18 12:27:37.255027                         400   \n",
       "2018-11-18 12:29:20.373452                         400   \n",
       "\n",
       "                            RE/Solar Generation (MW)   Frequency (Hz)  \\\n",
       "Time Stamp                                                              \n",
       "2018-11-18 12:25:15.636365                       180            49.88   \n",
       "2018-11-18 12:25:47.489097                       180            49.94   \n",
       "2018-11-18 12:26:14.219461                       180            49.94   \n",
       "2018-11-18 12:27:37.255027                       180            49.94   \n",
       "2018-11-18 12:29:20.373452                       180            49.94   \n",
       "\n",
       "                            Deviation Rate (Paise/Unit)  \n",
       "Time Stamp                                               \n",
       "2018-11-18 12:25:15.636365                       448.92  \n",
       "2018-11-18 12:25:47.489097                       303.04  \n",
       "2018-11-18 12:26:14.219461                       303.04  \n",
       "2018-11-18 12:27:37.255027                       303.04  \n",
       "2018-11-18 12:29:20.373452                       303.04  "
      ]
     },
     "execution_count": 3,
     "metadata": {},
     "output_type": "execute_result"
    }
   ],
   "source": [
    "data.index = pd.to_datetime(data.index)\n",
    "data.head()"
   ]
  },
  {
   "cell_type": "code",
   "execution_count": 4,
   "metadata": {},
   "outputs": [
    {
     "data": {
      "text/plain": [
       "1330"
      ]
     },
     "execution_count": 4,
     "metadata": {},
     "output_type": "execute_result"
    }
   ],
   "source": [
    "data = data['Demand(MW)']\n",
    "data.head()\n",
    "len(data)"
   ]
  },
  {
   "cell_type": "code",
   "execution_count": 5,
   "metadata": {},
   "outputs": [
    {
     "data": {
      "text/plain": [
       "Time Stamp\n",
       "2018-11-18 12:25:15.636365    11217\n",
       "2018-11-18 12:25:47.489097    11270\n",
       "2018-11-18 12:26:14.219461    11270\n",
       "2018-11-18 12:27:37.255027    11270\n",
       "2018-11-18 12:29:20.373452    11270\n",
       "Name: Demand(MW), dtype: int64"
      ]
     },
     "execution_count": 5,
     "metadata": {},
     "output_type": "execute_result"
    }
   ],
   "source": [
    "data.columns = ['Energy Production']\n",
    "data.head()"
   ]
  },
  {
   "cell_type": "code",
   "execution_count": 6,
   "metadata": {},
   "outputs": [
    {
     "data": {
      "text/plain": [
       "<matplotlib.axes._subplots.AxesSubplot at 0x7f64fe0a77f0>"
      ]
     },
     "execution_count": 6,
     "metadata": {},
     "output_type": "execute_result"
    },
    {
     "data": {
      "image/png": "[encoded data removed]",
      "text/plain": [
       "<Figure size 432x288 with 1 Axes>"
      ]
     },
     "metadata": {},
     "output_type": "display_data"
    }
   ],
   "source": [
    "data = data.astype('float64')\n",
    "data.head()\n",
    "data.plot()"
   ]
  },
  {
   "cell_type": "code",
   "execution_count": 7,
   "metadata": {},
   "outputs": [
    {
     "data": {
      "text/plain": [
       "<matplotlib.axes._subplots.AxesSubplot at 0x7f64fe00d860>"
      ]
     },
     "execution_count": 7,
     "metadata": {},
     "output_type": "execute_result"
    },
    {
     "data": {
      "image/png": "[encoded data removed]",
      "text/plain": [
       "<Figure size 432x288 with 1 Axes>"
      ]
     },
     "metadata": {},
     "output_type": "display_data"
    }
   ],
   "source": [
    "pd.plotting.lag_plot(data)"
   ]
  },
  {
   "cell_type": "code",
   "execution_count": 8,
   "metadata": {},
   "outputs": [
    {
     "data": {
      "text/plain": [
       "<matplotlib.axes._subplots.AxesSubplot at 0x7f64fbf24208>"
      ]
     },
     "execution_count": 8,
     "metadata": {},
     "output_type": "execute_result"
    },
    {
     "data": {
      "image/png": "[encoded data removed]",
      "text/plain": [
       "<Figure size 432x288 with 1 Axes>"
      ]
     },
     "metadata": {},
     "output_type": "display_data"
    }
   ],
   "source": [
    "pd.plotting.autocorrelation_plot(data)"
   ]
  },
  {
   "cell_type": "code",
   "execution_count": 9,
   "metadata": {},
   "outputs": [
    {
     "data": {
      "text/plain": [
       "0.9219120395599908"
      ]
     },
     "execution_count": 9,
     "metadata": {},
     "output_type": "execute_result"
    }
   ],
   "source": [
    "data.corr(data.shift(48))"
   ]
  },
  {
   "cell_type": "code",
   "execution_count": 10,
   "metadata": {},
   "outputs": [
    {
     "data": {
      "image/png": "[encoded data removed]",
      "text/plain": [
       "<Figure size 432x288 with 4 Axes>"
      ]
     },
     "metadata": {},
     "output_type": "display_data"
    }
   ],
   "source": [
    "from statsmodels.tsa.seasonal import seasonal_decompose\n",
    "decomposed = seasonal_decompose(data, model='additive', freq=96)\n",
    "x = decomposed.plot() #See note below about this"
   ]
  },
  {
   "cell_type": "code",
   "execution_count": 11,
   "metadata": {},
   "outputs": [],
   "source": [
    "dt = data.copy(deep=True)\n",
    "dt= data.diff()\n",
    "dt= data.diff()\n",
    "dt= data.diff()\n",
    "dt= data.diff()\n",
    "# dt['Energy Production'] = dt['Energy Production'].diff()\n",
    "# dt['Energy Production'] = dt['Energy Production'].diff()\n",
    "# dt['Energy Production'] = dt['Energy Production'].diff()"
   ]
  },
  {
   "cell_type": "code",
   "execution_count": 12,
   "metadata": {},
   "outputs": [
    {
     "data": {
      "text/plain": [
       "Time Stamp\n",
       "2018-11-18 12:25:15.636365    11217.0\n",
       "2018-11-18 12:25:47.489097    11270.0\n",
       "2018-11-18 12:26:14.219461    11270.0\n",
       "2018-11-18 12:27:37.255027    11270.0\n",
       "2018-11-18 12:29:20.373452    11270.0\n",
       "Name: Demand(MW), dtype: float64"
      ]
     },
     "execution_count": 12,
     "metadata": {},
     "output_type": "execute_result"
    }
   ],
   "source": [
    "data.head()"
   ]
  },
  {
   "cell_type": "code",
   "execution_count": 13,
   "metadata": {},
   "outputs": [
    {
     "data": {
      "text/plain": [
       "Time Stamp\n",
       "2018-11-18 12:29:20.373452      0.0\n",
       "2018-11-18 12:29:56.526219      0.0\n",
       "2018-11-18 12:30:30.729356      0.0\n",
       "2018-11-18 12:31:04.687450      0.0\n",
       "2018-11-18 12:31:38.290746    123.0\n",
       "Name: Demand(MW), dtype: float64"
      ]
     },
     "execution_count": 13,
     "metadata": {},
     "output_type": "execute_result"
    }
   ],
   "source": [
    "dt = dt.iloc[4:]\n",
    "dt.head()"
   ]
  },
  {
   "cell_type": "code",
   "execution_count": 14,
   "metadata": {},
   "outputs": [
    {
     "data": {
      "text/plain": [
       "<matplotlib.axes._subplots.AxesSubplot at 0x7f64fab68f60>"
      ]
     },
     "execution_count": 14,
     "metadata": {},
     "output_type": "execute_result"
    },
    {
     "data": {
      "image/png": "[encoded data removed]",
      "text/plain": [
       "<Figure size 432x288 with 1 Axes>"
      ]
     },
     "metadata": {},
     "output_type": "display_data"
    }
   ],
   "source": [
    "dt.plot()"
   ]
  },
  {
   "cell_type": "code",
   "execution_count": 15,
   "metadata": {},
   "outputs": [
    {
     "data": {
      "image/png": "[encoded data removed]",
      "text/plain": [
       "<Figure size 432x288 with 4 Axes>"
      ]
     },
     "metadata": {},
     "output_type": "display_data"
    }
   ],
   "source": [
    "decomposed = seasonal_decompose(dt, model='additive', freq=48)\n",
    "x = decomposed.plot()"
   ]
  },
  {
   "cell_type": "code",
   "execution_count": 16,
   "metadata": {},
   "outputs": [
    {
     "data": {
      "text/plain": [
       "<matplotlib.axes._subplots.AxesSubplot at 0x7f64fa8b28d0>"
      ]
     },
     "execution_count": 16,
     "metadata": {},
     "output_type": "execute_result"
    },
    {
     "data": {
      "image/png": "[encoded data removed]",
      "text/plain": [
       "<Figure size 432x288 with 1 Axes>"
      ]
     },
     "metadata": {},
     "output_type": "display_data"
    }
   ],
   "source": [
    "pd.plotting.autocorrelation_plot(dt)"
   ]
  },
  {
   "cell_type": "code",
   "execution_count": 17,
   "metadata": {},
   "outputs": [
    {
     "name": "stderr",
     "output_type": "stream",
     "text": [
      "/home/cooldudeanmol/anaconda3/lib/python3.6/site-packages/statsmodels/tsa/base/tsa_model.py:225: ValueWarning: A date index has been provided, but it has no associated frequency information and so will be ignored when e.g. forecasting.\n",
      "  ' ignored when e.g. forecasting.', ValueWarning)\n"
     ]
    }
   ],
   "source": [
    "from statsmodels.tsa.ar_model import AR\n",
    " \n",
    "#create train/test datasets\n",
    "X = dt.dropna()\n",
    "train_data = X[:int((len(X)*70)/100)]\n",
    "test_data = X[int((len(X)*70)/100):]\n",
    " \n",
    "#train the autoregression model\n",
    "model = AR(train_data)\n",
    "model_fitted = model.fit()"
   ]
  },
  {
   "cell_type": "code",
   "execution_count": 18,
   "metadata": {},
   "outputs": [
    {
     "name": "stdout",
     "output_type": "stream",
     "text": [
      "The lag value chose is: 21\n",
      "The coefficients of the model are:\n",
      " const             3.929590\n",
      "L1.Demand(MW)    -0.078932\n",
      "L2.Demand(MW)    -0.009835\n",
      "L3.Demand(MW)    -0.010861\n",
      "L4.Demand(MW)     0.006768\n",
      "L5.Demand(MW)    -0.019970\n",
      "L6.Demand(MW)     0.000568\n",
      "L7.Demand(MW)    -0.012320\n",
      "L8.Demand(MW)     0.005628\n",
      "L9.Demand(MW)    -0.002687\n",
      "L10.Demand(MW)    0.004873\n",
      "L11.Demand(MW)    0.007290\n",
      "L12.Demand(MW)    0.003180\n",
      "L13.Demand(MW)    0.006988\n",
      "L14.Demand(MW)    0.008618\n",
      "L15.Demand(MW)    0.009917\n",
      "L16.Demand(MW)   -0.011575\n",
      "L17.Demand(MW)   -0.002607\n",
      "L18.Demand(MW)   -0.011465\n",
      "L19.Demand(MW)    0.049534\n",
      "L20.Demand(MW)    0.324791\n",
      "L21.Demand(MW)   -0.093962\n",
      "dtype: float64\n"
     ]
    }
   ],
   "source": [
    "print('The lag value chose is: %s' % model_fitted.k_ar)\n",
    " \n",
    " \n",
    "print('The coefficients of the model are:\\n %s' % model_fitted.params)\n",
    " \n"
   ]
  },
  {
   "cell_type": "code",
   "execution_count": 19,
   "metadata": {},
   "outputs": [
    {
     "name": "stderr",
     "output_type": "stream",
     "text": [
      "/home/cooldudeanmol/anaconda3/lib/python3.6/site-packages/statsmodels/tsa/base/tsa_model.py:531: ValueWarning: No supported index is available. Prediction results will be given with an integer index beginning at `start`.\n",
      "  ValueWarning)\n"
     ]
    },
    {
     "data": {
      "text/plain": [
       "<matplotlib.axes._subplots.AxesSubplot at 0x7f64faba31d0>"
      ]
     },
     "execution_count": 19,
     "metadata": {},
     "output_type": "execute_result"
    },
    {
     "data": {
      "image/png": "[encoded data removed]",
      "text/plain": [
       "<Figure size 432x288 with 1 Axes>"
      ]
     },
     "metadata": {},
     "output_type": "display_data"
    }
   ],
   "source": [
    "# make predictions \n",
    "predictions = model_fitted.predict(\n",
    "    start=len(train_data), \n",
    "    end=len(train_data) + len(test_data)-1, \n",
    "    dynamic=False)\n",
    " \n",
    "# create a comparison dataframe\n",
    "compare_df = pd.concat(\n",
    "    [X[int((len(X)*70)/100):],\n",
    "    predictions], axis=1).rename(\n",
    "    columns={'stationary': 'actual', 0:'predicted'})\n",
    " \n",
    "#plot the two values\n",
    "compare_df.plot()"
   ]
  },
  {
   "cell_type": "code",
   "execution_count": 20,
   "metadata": {},
   "outputs": [
    {
     "data": {
      "text/plain": [
       "-0.0001287997291186116"
      ]
     },
     "execution_count": 20,
     "metadata": {},
     "output_type": "execute_result"
    }
   ],
   "source": [
    "from sklearn.metrics import r2_score\n",
    " \n",
    "r2 = r2_score(X[int((len(X)*70)/100):], predictions)\n",
    "r2"
   ]
  },
  {
   "cell_type": "code",
   "execution_count": 21,
   "metadata": {},
   "outputs": [
    {
     "name": "stdout",
     "output_type": "stream",
     "text": [
      "train Score 160.13465113984034\n"
     ]
    }
   ],
   "source": [
    "import math\n",
    "from sklearn.metrics import mean_squared_error\n",
    "\n",
    "\n",
    "# trainPredict = scaler.inverse_transform(trainPredict)\n",
    "# testPredict = scaler.inverse_transform(testPredict)\n",
    "\n",
    "# ytrain = scaler.inverse_transform([Ytrain])\n",
    "# ytest = scaler.inverse_transform([Ytest])\n",
    "    \n",
    "# trainScore = math.sqrt(mean_squared_error(ytrain[0], X[:int((len(X)*70)/100)]))    \n",
    "# print(\"train Score\", trainScore)\n",
    "\n",
    "testScore = math.sqrt(mean_squared_error(X[int((len(X)*70)/100):], predictions))    \n",
    "print(\"train Score\", testScore)\n",
    "# print(ytest[0])"
   ]
  },
  {
   "cell_type": "code",
   "execution_count": null,
   "metadata": {},
   "outputs": [],
   "source": []
  }
 ],
 "metadata": {
  "kernelspec": {
   "display_name": "Python 3",
   "language": "python",
   "name": "python3"
  },
  "language_info": {
   "codemirror_mode": {
    "name": "ipython",
    "version": 3
   },
   "file_extension": ".py",
   "mimetype": "text/x-python",
   "name": "python",
   "nbconvert_exporter": "python",
   "pygments_lexer": "ipython3",
   "version": "3.6.5"
  }
 },
 "nbformat": 4,
 "nbformat_minor": 2
}
